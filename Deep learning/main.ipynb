{
 "cells": [
  {
   "cell_type": "code",
   "execution_count": null,
   "metadata": {
    "is_executing": true
   },
   "outputs": [],
   "source": [
    "from sklearn.datasets import make_regression\n",
    "import matplotlib.pyplot as plt\n",
    "\n",
    "\n",
    "# dataset\n",
    "data = make_regression(n_samples=40,n_features=1,noise=20,random_state=42)\n",
    "x_data, y_data = data[0], data[1]\n",
    "\n",
    "# print(x_data)\n",
    "# print(\"----------------\")\n",
    "# print(y_data)\n",
    "\n",
    "def classic_regression(x): return x * 73\n",
    "\n",
    "y_pred = [classic_regression(i) for i in x_data]\n",
    "\n",
    "\n",
    "plt.scatter(x_data,y_data,label='Haqiqiy qiymat')\n",
    "plt.plot(x_data,y_pred,'r',label='Dastur')\n",
    "plt.xlabel('X')\n",
    "plt.ylabel('Y')\n",
    "plt.legend()\n",
    "plt.show()\n"
   ]
  },
  {
   "cell_type": "code",
   "execution_count": null,
   "metadata": {
    "is_executing": true
   },
   "outputs": [],
   "source": [
    "from sklearn.datasets import make_regression\n",
    "import matplotlib.pyplot as plt\n",
    "\n",
    "\n",
    "# dataset\n",
    "data = make_regression(n_samples=40,n_features=1,noise=20,random_state=42)\n",
    "x_data, y_data = data[0], data[1]\n",
    "\n",
    "# print(x_data)\n",
    "# print(\"----------------\")\n",
    "# print(y_data)\n",
    "\n",
    "w = 1.3\n",
    "\n",
    "def weight_assegment_regression(x,w): return w * x * 73\n",
    "\n",
    "y_pred = [weight_assegment_regression(i,w) for i in x_data]\n",
    "\n",
    "\n",
    "plt.scatter(x_data,y_data,label='Haqiqiy qiymat')\n",
    "plt.plot(x_data,y_pred,'r',label='Vaznli Dastur')\n",
    "plt.xlabel('X')\n",
    "plt.ylabel('Y')\n",
    "plt.legend()\n",
    "plt.title(f'{w}*x*70')\n",
    "plt.show()\n"
   ]
  },
  {
   "cell_type": "code",
   "execution_count": null,
   "metadata": {
    "is_executing": true
   },
   "outputs": [],
   "source": [
    "from sklearn.datasets import make_regression\n",
    "from sklearn.linear_model import LinearRegression\n",
    "import matplotlib.pyplot as plt\n",
    "\n",
    "\n",
    "# dataset\n",
    "data = make_regression(n_samples=40,n_features=1,noise=20,random_state=42)\n",
    "x_data, y_data = data[0], data[1]\n",
    "\n",
    "regression = LinearRegression().fit(x_data,y_data)\n",
    "y_pred = regression.predict(x_data)\n",
    "\n",
    "plt.scatter(x_data,y_data,label='Haqiqiy qiymat')\n",
    "plt.plot(x_data,y_pred,'r',label='ML Dastur')\n",
    "plt.xlabel('X')\n",
    "plt.ylabel('Y')\n",
    "plt.legend()\n",
    "equation = f'{regression.coef_[0]:.3f}x + {regression.intercept_:.3f}'\n",
    "plt.title(equation)\n",
    "plt.show()\n"
   ]
  },
  {
   "cell_type": "code",
   "execution_count": null,
   "metadata": {
    "is_executing": true
   },
   "outputs": [],
   "source": [
    "from sklearn.datasets import make_regression\n",
    "from sklearn.neural_network import MLPRegressor\n",
    "import matplotlib.pyplot as plt\n",
    "\n",
    "\n",
    "# dataset\n",
    "data = make_regression(n_samples=40,n_features=1,noise=20,random_state=42)\n",
    "x_data, y_data = data[0], data[1]\n",
    "\n",
    "regression = MLPRegressor(max_iter=2000).fit(x_data,y_data)\n",
    "y_pred = regression.predict(x_data)\n",
    "\n",
    "plt.scatter(x_data,y_data,label='Haqiqiy qiymat')\n",
    "plt.plot(x_data,y_pred,'r',label='DL Dastur')\n",
    "plt.xlabel('X')\n",
    "plt.ylabel('Y')\n",
    "plt.legend()\n",
    "plt.show()\n"
   ]
  }
 ],
 "metadata": {
  "kernelspec": {
   "display_name": "C++ amaliyot",
   "language": "python",
   "name": "python3"
  },
  "language_info": {
   "codemirror_mode": {
    "name": "ipython",
    "version": 3
   },
   "file_extension": ".py",
   "mimetype": "text/x-python",
   "name": "python",
   "nbconvert_exporter": "python",
   "pygments_lexer": "ipython3",
   "version": "3.10.0rc2"
  },
  "orig_nbformat": 4
 },
 "nbformat": 4,
 "nbformat_minor": 2
}
