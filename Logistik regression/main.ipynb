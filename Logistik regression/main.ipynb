{
 "cells": [
  {
   "cell_type": "code",
   "execution_count": null,
   "metadata": {
    "is_executing": true
   },
   "outputs": [],
   "source": [
    "import numpy as np\n",
    "import pandas as pd\n",
    "import seaborn as sns\n",
    "from sklearn.linear_model import LogisticRegression\n",
    "from sklearn.metrics import accuracy_score, confusion_matrix\n",
    "import matplotlib.pyplot as plt\n",
    "\n",
    "data = pd.read_csv('dataset.csv')\n",
    "\n",
    "# Ma'lumotlarni X va y ga ajratib olamiz\n",
    "X_train = data.iloc[:, :-1]  # Barcha ustunlar (1 dan boshlab, oxirgi ustunni emas)\n",
    "y_train = data.iloc[:, -1]  # Natijalar (oxirgi ustun)\n",
    "\n",
    "# Logistik regressiya modelini yaratish va uchun moslashtirish\n",
    "model = LogisticRegression(max_iter=1000)\n",
    "model.fit(X_train, y_train)\n",
    "\n",
    "# Test ma'lumotlarini yaratish\n",
    "x_test = pd.DataFrame({\n",
    "    'Homiladorlik': [1, 1, 3, 6, 4, 1, 3, 0, 8, 1, 7, 0, 1, 6, 2, 9, 9, 10, 2, 5, 1, 1],\n",
    "    'Glyukoza': [147, 81, 187, 162, 136, 121, 108, 181, 154, 128, 137, 123, 106, 190, 88, 170, 89, 101, 122, 121, 126, 93],\n",
    "    'Qon Bosimi': [94, 74, 70, 62, 70, 78, 62, 88, 78, 88, 90, 72, 76, 92, 58, 74, 62, 76, 70, 72, 60, 70],\n",
    "    'Teri Qalinligi': [41, 41, 22, 0, 0, 39, 24, 44, 32, 39, 41, 0, 0, 0, 26, 31, 0, 48, 27, 23, 0, 31],\n",
    "    'Insulin': [0, 57, 200, 0, 0, 74, 0, 510, 0, 110, 0, 0, 0, 0, 16, 0, 0, 180, 0, 112, 0, 0],\n",
    "    'Tana Massa Indexsi': [49.3, 46.3, 36.4, 24.3, 31.2, 39, 26, 43.3, 32.4, 36.5, 32, 36.3, 37.5, 35.5, 28.4, 44, 22.5, 32.9, 36.8, 26.2, 30.1, 30.4],\n",
    "    'Qandli Diabetning Naslchilik Funktsiyasi': [0.358, 1.096, 0.408, 0.178, 1.182, 0.261, 0.223, 0.222, 0.443, 1.057, 0.391, 0.258, 0.197, 0.278, 0.766, 0.403, 0.142, 0.171, 0.34, 0.245, 0.349, 0.315],\n",
    "    'Yosh': [27, 32, 36, 50, 22, 28, 25, 26, 45, 37, 39, 52, 26, 66, 22, 43, 33, 63, 27, 30, 47, 23],\n",
    "})\n",
    "\n",
    "# Test ma'lumotlarini natijalarni bashorat qilish\n",
    "y_pred = model.predict(x_test)\n",
    "\n",
    "# Test ma'lumotlarini aniqlash\n",
    "y_pred = model.predict(x_test)\n",
    "print(\"Test natijalari:\", y_pred)\n",
    "\n",
    "# Test ma'lumotlarini aniqlash\n",
    "y_test = np.array([1,0,0,0,1,0,1,0,1,0,1,1,1,0,0,1,1,1,0,0,1,0])\n",
    "\n",
    "# Test ma'lumotlarini natijalarni bashorat qilish\n",
    "y_test_pred = model.predict(x_test)\n",
    "\n",
    "\n",
    "# Trenirovka va test ma'lumotlari bo'yicha aniqlik (accuracy) ni hisoblaymiz\n",
    "test_accuracy = accuracy_score(y_test, y_test_pred)\n",
    "\n",
    "# Konfuziya matricasini o'qish uchun funksiya\n",
    "def plot_confusion_matrix(y_true, y_pred, classes):\n",
    "    cm = confusion_matrix(y_true, y_pred)\n",
    "    sns.heatmap(cm, annot=True, fmt='d', cmap='Blues', xticklabels=classes, yticklabels=classes)\n",
    "    plt.ylabel('Haqiqiy natijalar')\n",
    "    plt.xlabel('Bashorat natijalari')\n",
    "    plt.show()\n",
    "\n",
    "# Aniqlik hisoblanganligini ekranga chiqaramiz\n",
    "print(f'Test ma\\'lumotlari uchun aniqlik: {test_accuracy:.4f}')\n",
    "\n",
    "# Konfuziya matricasini o'qamiz\n",
    "plot_confusion_matrix(y_test, y_test_pred, classes=['Diabet yo\\'q', 'Diabet bor'])\n",
    "\n",
    "x_test_df = pd.DataFrame(x_test, columns=['Homiladorlik', 'Glyukoza', 'Qon Bosimi', 'Teri Qalinligi', 'Insulin', 'Tana Massa Indexsi', 'Qandli Diabetning Naslchilik Funktsiyasi', 'Yosh'])\n",
    "\n",
    "# 'Yosh' va 'Glyukoza' ustunlar bo'yicha scatter plot\n",
    "sns.scatterplot(data=x_test_df, x='Yosh', y='Glyukoza', hue=y_pred)\n",
    "plt.xlabel('Yosh')\n",
    "plt.ylabel('Glyukoza')\n",
    "plt.title('Glyukoza va Yosh ga bog\\'liq')\n",
    "plt.show()\n"
   ]
  },
  {
   "cell_type": "code",
   "execution_count": null,
   "outputs": [],
   "source": [],
   "metadata": {
    "collapsed": false
   }
  },
  {
   "cell_type": "code",
   "execution_count": null,
   "outputs": [],
   "source": [],
   "metadata": {
    "collapsed": false
   }
  }
 ],
 "metadata": {
  "kernelspec": {
   "display_name": "Python 3",
   "language": "python",
   "name": "python3"
  },
  "language_info": {
   "codemirror_mode": {
    "name": "ipython",
    "version": 3
   },
   "file_extension": ".py",
   "mimetype": "text/x-python",
   "name": "python",
   "nbconvert_exporter": "python",
   "pygments_lexer": "ipython3",
   "version": "3.10.0rc2"
  },
  "orig_nbformat": 4
 },
 "nbformat": 4,
 "nbformat_minor": 2
}
